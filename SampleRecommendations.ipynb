{
 "cells": [
  {
   "cell_type": "markdown",
   "metadata": {},
   "source": [
    "<b>1. User-User: Euclidean Distance Approach</b>\n",
    "\n",
    "This is a problem of Euclidean Distance. The datatset contains the rating given by a particular person to various persons with a particular value. And Using the distance functions we can measure the distaance between any two persons and based on that we can decide who is closest to whom and can recommend that person to the other who has the minimum distance. Thr formula used for counting the distance is\n",
    "\n",
    "                           ((x1-x2)^2 + (y1-y2)^2)^1/2\n",
    "<h1><b> The dataset is same in all the cases."
   ]
  },
  {
   "cell_type": "code",
   "execution_count": 4,
   "metadata": {
    "collapsed": false
   },
   "outputs": [
    {
     "name": "stdout",
     "output_type": "stream",
     "text": [
      "CPU times: user 0 ns, sys: 0 ns, total: 0 ns\n",
      "Wall time: 9.06 µs\n"
     ]
    },
    {
     "data": {
      "text/plain": [
       "0.37499999999999534"
      ]
     },
     "execution_count": 4,
     "metadata": {},
     "output_type": "execute_result"
    }
   ],
   "source": [
    "#This is <h1> so high\n",
    "%time\n",
    "dataset = {\"Harshita Chandra\": {\"Harshita Chandra\": 5.0, \"Harshita Chandra\":5.0},\n",
    "         \"Dileep Bhadauria\":{\"Crazy Ones\": 3.3333333333333, \"Crazy Oness\": 5.0, \"Bee Social\": 5.0, \"Test Bolt\": 3.3333333333333,\n",
    "                             \"Hanish Dhamija\": 5.0, \"Vineet Kaul\":5.0},\n",
    "         \"Mohd Aslam\": {\"Akram Ahmad\": 1.6666666666667, \"Akram Ahmad\": 3.3333333333333, \"Akram Ahmad\": 1.6666666666667,\n",
    "                        \"Akram Ahmad\": 5.0},\n",
    "         \"Bee Social\": {\"Akram Ahmad\": 5.0, \"Test Bolt\": 5.0, \"Dileep Bhadauria\": 5.0, \"Crazy Ones\": 5.0, \"Crazy Ones\": 5.0, \n",
    "                        \"Crazy Ones\": 5.0},\n",
    "         \"iPhone 5c\": {\"Akram Ahmad\": 5.0, \"Akram Ahmad\": 5.0},\n",
    "         \"Akram Ahmad\":  {\"Bee Social\": 5.0, \"Mohd Aslam\": 5.0, \"Mohd Aslam\": 1.6666666666667, \"Mohd Aslam\": 3.3333333333333,\n",
    "                          \"Mohd Aslam\": 1.6666666666667},\n",
    "         \"Test Bolt\": {\"Bee Social\": 3.3333333333333,\"Dileep Bhadauria\": 5.0},\n",
    "         \"Jayant Varma\": {\"Crazy One\": 5.0, \"Crazy One\": 3.3333333333333, \"Crazy One\": 5.0},\n",
    "         \"Hanish Dhamija\": {\"Dileep Bhadauria\":1.6666666666667},\n",
    "         \"Vineet Kaul\": {\"Dileep Bhadauria\": 5.0},\n",
    "         \"Crazy Ones\": {\"Bee Social\": 5.0, \"Bee Social\" :5.0, \"Bee Social\": 5.0, \"Jayant Varma\": 1.6666666666667, \n",
    "                        \"Jayant Varma\": 3.3333333333333, \"Jayant Varma\": 5.0, \"Dileep Bhadauria\": 3.3333333333333}\n",
    "        }\n",
    "from math import sqrt\n",
    "def sim_distance(prefs, p1, p2):\n",
    "    '''\n",
    "    Returns a distance-based similarity score for person1 and person2.\n",
    "    '''\n",
    "\n",
    "    # Get the list of shared_items\n",
    "    si = {}\n",
    "    for item in prefs[p1]:\n",
    "        if item in prefs[p2]:\n",
    "            si[item] = 1\n",
    "    # If they have no ratings in common, return 0\n",
    "    if len(si) == 0:\n",
    "        return 0\n",
    "    # Add up the squares of all the differences\n",
    "    sum_of_squares = sum([pow(prefs[p1][item] - prefs[p2][item], 2) for item in\n",
    "                         prefs[p1] if item in prefs[p2]])\n",
    "    return 1 / (1 + sqrt(sum_of_squares))\n",
    "r=sim_distance(dataset,'Crazy Ones','Vineet Kaul')\n",
    "r\n"
   ]
  },
  {
   "cell_type": "markdown",
   "metadata": {},
   "source": [
    "<b> 2. User-User: Manhattan Distance</b>\n",
    "\n",
    "It is quite similar to Euclidean. The main difference is that the distance caluclated uses linear approach and not not the squared. The formula for this approach is:\n",
    "              \n",
    "                                   |x1 - x2| + | y1 - y2 |\n"
   ]
  },
  {
   "cell_type": "code",
   "execution_count": 7,
   "metadata": {
    "collapsed": false
   },
   "outputs": [
    {
     "name": "stdout",
     "output_type": "stream",
     "text": [
      "CPU times: user 0 ns, sys: 0 ns, total: 0 ns\n",
      "Wall time: 7.87 µs\n",
      "Crazy Ones-> [('Harshita Chandra', 5.0)]\n"
     ]
    }
   ],
   "source": [
    "#Manhattan Distance Function\n",
    "import pandas as pd\n",
    "%time\n",
    "users = {\"Harshita Chandra\": {\"Harshita Chandra\": 5.0, \"Harshita Chandra\":5.0},\n",
    "         \"Dileep Bhadauria\":{\"Crazy Ones\": 3.3333333333333, \"Crazy Oness\": 5.0, \"Bee Social\": 5.0, \"Test Bolt\": 3.3333333333333,\n",
    "                             \"Hanish Dhamija\": 5.0, \"Vineet Kaul\":5.0},\n",
    "         \"Mohd Aslam\": {\"Akram Ahmad\": 1.6666666666667, \"Akram Ahmad\": 3.3333333333333, \"Akram Ahmad\": 1.6666666666667,\n",
    "                        \"Akram Ahmad\": 5.0},\n",
    "         \"Bee Social\": {\"Akram Ahmad\": 5.0, \"Test Bolt\": 5.0, \"Dileep Bhadauria\": 5.0, \"Crazy Ones\": 5.0, \"Crazy Ones\": 5.0, \n",
    "                        \"Crazy Ones\": 5.0},\n",
    "         \"iPhone 5c\": {\"Akram Ahmad\": 5.0, \"Akram Ahmad\": 5.0},\n",
    "         \"Akram Ahmad\":  {\"Bee Social\": 5.0, \"Mohd Aslam\": 5.0, \"Mohd Aslam\": 1.6666666666667, \"Mohd Aslam\": 3.3333333333333,\n",
    "                          \"Mohd Aslam\": 1.6666666666667},\n",
    "         \"Test Bolt\": {\"Bee Social\": 3.3333333333333,\"Dileep Bhadauria\": 5.0},\n",
    "         \"Jayant Varma\": {\"Crazy One\": 5.0, \"Crazy One\": 3.3333333333333, \"Crazy One\": 5.0},\n",
    "         \"Hanish Dhamija\": {\"Dileep Bhadauria\":1.6666666666667},\n",
    "         \"Vineet Kaul\": {\"Dileep Bhadauria\": 5.0},\n",
    "         \"Crazy Ones\": {\"Bee Social\": 5.0, \"Bee Social\" :5.0, \"Bee Social\": 5.0, \"Jayant Varma\": 1.6666666666667, \n",
    "                        \"Jayant Varma\": 3.3333333333333, \"Jayant Varma\": 5.0, \"Dileep Bhadauria\": 3.3333333333333}\n",
    "        }\n",
    "\n",
    "\n",
    "\n",
    "def manhattan(rating1, rating2):\n",
    "    \"\"\"Computes the Manhattan distance. Both rating1 and rating2 are dictionaries\n",
    "       of the form {'The Strokes': 3.0, 'Slightly Stoopid': 2.5}\"\"\"\n",
    "    distance = 0\n",
    "    commonRatings = False \n",
    "    for key in rating1:\n",
    "        if key in rating2:\n",
    "            distance += abs(rating1[key] - rating2[key])\n",
    "            commonRatings = True\n",
    "    if commonRatings:\n",
    "        return distance\n",
    "    else:\n",
    "        return -1 #Indicates no ratings in common\n",
    "    \n",
    "def computeNearestNeighbor(username, users):\n",
    "    \"\"\"creates a sorted list of users based on their distance to username\"\"\"\n",
    "    distances = []\n",
    "    for user in users:\n",
    "        if user != username:\n",
    "            distance = manhattan(users[user], users[username])\n",
    "            distances.append((distance, user))\n",
    "    # sort based on distance -- closest first\n",
    "    distances.sort()\n",
    "    return distances\n",
    "\n",
    "def recommend(username, users):\n",
    "    \"\"\"Give list of recommendations\"\"\"\n",
    "    # first find nearest neighbor\n",
    "    nearest = computeNearestNeighbor(username, users)[0][1]\n",
    "\n",
    "    recommendations = []\n",
    "    # now find bands neighbor rated that user didn't\n",
    "    neighborRatings = users[nearest]\n",
    "    userRatings = users[username]\n",
    "    for artist in neighborRatings:\n",
    "        if not artist in userRatings:\n",
    "            recommendations.append((artist, neighborRatings[artist]))\n",
    "    # using the fn sorted for variety - sort is more efficient\n",
    "    return sorted(recommendations, key=lambda artistTuple: artistTuple[1], reverse = True)\n",
    "\n",
    "# examples - uncomment to run\n",
    "\n",
    "print \"Crazy Ones->\", recommend('Crazy Ones', users)"
   ]
  },
  {
   "cell_type": "markdown",
   "metadata": {},
   "source": [
    "<b> 3. User-User : Pearson Relation Coefficient- </b>\n",
    "\n",
    "It gives an index of relationship between two variables. It ranges from +1 to -1. The more similar both variables are, the value will be closer to 1. Correlation 0 means there is no linear relationship between those two variables.\n",
    " "
   ]
  },
  {
   "cell_type": "code",
   "execution_count": 8,
   "metadata": {
    "collapsed": false,
    "scrolled": true
   },
   "outputs": [
    {
     "name": "stdout",
     "output_type": "stream",
     "text": [
      "CPU times: user 0 ns, sys: 0 ns, total: 0 ns\n",
      "Wall time: 10 µs\n",
      "Crazy Ones-> [('Harshita Chandra', 5.0)]\n"
     ]
    }
   ],
   "source": [
    "%time\n",
    "from math import sqrt\n",
    "\n",
    "users = {\"Harshita Chandra\": {\"Harshita Chandra\": 5.0, \"Harshita Chandra\":5.0},\n",
    "         \"Dileep Bhadauria\":{\"Crazy Ones\": 3.3333333333333, \"Crazy Oness\": 5.0, \"Bee Social\": 5.0, \"Test Bolt\": 3.3333333333333,\n",
    "                             \"Hanish Dhamija\": 5.0, \"Vineet Kaul\":5.0},\n",
    "         \"Mohd Aslam\": {\"Akram Ahmad\": 1.6666666666667, \"Akram Ahmad\": 3.3333333333333, \"Akram Ahmad\": 1.6666666666667,\n",
    "                        \"Akram Ahmad\": 5.0},\n",
    "         \"Bee Social\": {\"Akram Ahmad\": 5.0, \"Test Bolt\": 5.0, \"Dileep Bhadauria\": 5.0, \"Crazy Ones\": 5.0, \"Crazy Ones\": 5.0, \n",
    "                        \"Crazy Ones\": 5.0},\n",
    "         \"iPhone 5c\": {\"Akram Ahmad\": 5.0, \"Akram Ahmad\": 5.0},\n",
    "         \"Akram Ahmad\":  {\"Bee Social\": 5.0, \"Mohd Aslam\": 5.0, \"Mohd Aslam\": 1.6666666666667, \"Mohd Aslam\": 3.3333333333333,\n",
    "                          \"Mohd Aslam\": 1.6666666666667},\n",
    "         \"Test Bolt\": {\"Bee Social\": 3.3333333333333,\"Dileep Bhadauria\": 5.0},\n",
    "         \"Jayant Varma\": {\"Crazy One\": 5.0, \"Crazy One\": 3.3333333333333, \"Crazy One\": 5.0},\n",
    "         \"Hanish Dhamija\": {\"Dileep Bhadauria\":1.6666666666667},\n",
    "         \"Vineet Kaul\": {\"Dileep Bhadauria\": 5.0},\n",
    "         \"Crazy Ones\": {\"Bee Social\": 5.0, \"Bee Social\" :5.0, \"Bee Social\": 5.0, \"Jayant Varma\": 1.6666666666667, \n",
    "                        \"Jayant Varma\": 3.3333333333333, \"Jayant Varma\": 5.0, \"Dileep Bhadauria\": 3.3333333333333}\n",
    "        }\n",
    "\n",
    "\n",
    "def manhattan(rating1, rating2):\n",
    "    \"\"\"Computes the Manhattan distance. Both rating1 and rating2 are dictionaries\n",
    "       of the form {'The Strokes': 3.0, 'Slightly Stoopid': 2.5}\"\"\"\n",
    "    distance = 0\n",
    "    total = 0\n",
    "    for key in rating1:\n",
    "        if key in rating2:\n",
    "            distance += abs(rating1[key] - rating2[key])\n",
    "            total += 1\n",
    "    if total > 0:\n",
    "        return distance / total\n",
    "    else:\n",
    "        return -1\n",
    "\n",
    "def pearson(rating1, rating2):\n",
    "    sum_xy = 0\n",
    "    sum_x = 0\n",
    "    sum_y = 0\n",
    "    sum_x2 = 0\n",
    "    sum_y2 = 0\n",
    "    n = 0\n",
    "    for key in rating1:\n",
    "        if key in rating2:\n",
    "            n += 1\n",
    "            x = rating1[key]\n",
    "            y = rating2[key]\n",
    "            sum_xy += x * y\n",
    "            sum_x += x\n",
    "            sum_y += y\n",
    "            sum_x2 += pow(x, 2)\n",
    "            sum_y2 += pow(y, 2)\n",
    "    # now compute denominator\n",
    "    denominator = sqrt(sum_x2 - pow(sum_x, 2) / n) * sqrt(sum_y2 - pow(sum_y, 2) / n)\n",
    "    if denominator == 0:\n",
    "        return 0\n",
    "    else:\n",
    "        return (sum_xy - (sum_x * sum_y) / n) / denominator\n",
    "            \n",
    "\n",
    "def computeNearestNeighbor(username, users):\n",
    "    \"\"\"creates a sorted list of users based on their distance to username\"\"\"\n",
    "    distances = []\n",
    "    for user in users:\n",
    "        if user != username:\n",
    "            distance = manhattan(users[user], users[username])\n",
    "            distances.append((distance, user))\n",
    "    # sort based on distance -- closest first\n",
    "    distances.sort()\n",
    "    return distances\n",
    "def recommend(username, users):\n",
    "    \"\"\"Give list of recommendations\"\"\"\n",
    "    # first find nearest neighbor\n",
    "    nearest = computeNearestNeighbor(username, users)[0][1]\n",
    "\n",
    "    recommendations = []\n",
    "    # now find bands neighbor rated that user didn't\n",
    "    neighborRatings = users[nearest]\n",
    "    userRatings = users[username]\n",
    "    for artist in neighborRatings:\n",
    "        if not artist in userRatings:\n",
    "            recommendations.append((artist, neighborRatings[artist]))\n",
    "    # using the fn sorted for variety - sort is more efficient\n",
    "    return sorted(recommendations, key=lambda artistTuple: artistTuple[1], reverse = True)\n",
    "\n",
    "#print (recommend('Harshita Chandra', users))\n",
    "print \"Crazy Ones->\", recommend('Crazy Ones', users)"
   ]
  },
  {
   "cell_type": "markdown",
   "metadata": {},
   "source": [
    "<b> User-Item Recommendations: </b>\n",
    "\n",
    "In this system I'm trying to find the top users of a given category and then recommend those users to the persons who are interested in that category."
   ]
  },
  {
   "cell_type": "code",
   "execution_count": 9,
   "metadata": {
    "collapsed": false
   },
   "outputs": [
    {
     "name": "stdout",
     "output_type": "stream",
     "text": [
      "5\n",
      "146882566178080\n",
      "33\n"
     ]
    }
   ],
   "source": [
    "import pymongo\n",
    "import pandas as pd\n",
    "from pymongo import MongoClient\n",
    "connection=MongoClient(\"localhost\")\n",
    "db=connection.mylocaltlt\n",
    "ratings=db.ratings\n",
    "items=ratings.find()\n",
    "bk=db.booking\n",
    "its=bk.find()\n",
    "userId=\"578396ab1871657b098b456a\"\n",
    "\n",
    "for item in items:\n",
    "    if item[\"dstUserId\"]==userId :\n",
    "        if item[\"userType\"]==0:\n",
    "            #if item[\"_id\"]==578c808e187165c9738b4569 :\n",
    "            print item[\"ratingValue\"]\n",
    "            print item[\"orderId\"]\n",
    "            i=item[\"orderId\"]\n",
    "            \n",
    "            \n",
    "for it in its:\n",
    "    if it[\"orderId\"]==i :\n",
    "        print it[\"categoryId\"]\n",
    "                    \n",
    "                \n"
   ]
  },
  {
   "cell_type": "code",
   "execution_count": null,
   "metadata": {
    "collapsed": true
   },
   "outputs": [],
   "source": []
  }
 ],
 "metadata": {
  "kernelspec": {
   "display_name": "Python 2",
   "language": "python",
   "name": "python2"
  },
  "language_info": {
   "codemirror_mode": {
    "name": "ipython",
    "version": 2
   },
   "file_extension": ".py",
   "mimetype": "text/x-python",
   "name": "python",
   "nbconvert_exporter": "python",
   "pygments_lexer": "ipython2",
   "version": "2.7.11"
  }
 },
 "nbformat": 4,
 "nbformat_minor": 0
}
